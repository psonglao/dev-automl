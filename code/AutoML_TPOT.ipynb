{
 "cells": [
  {
   "cell_type": "markdown",
   "metadata": {},
   "source": [
    "# AutoML: TPOT Tutorial"
   ]
  },
  {
   "cell_type": "markdown",
   "metadata": {},
   "source": [
    "<img alt=\"TPOT Logo\" src=\"tpot_logo.jpg\" align=\"left\" style=\"width: 250px;\">"
   ]
  },
  {
   "cell_type": "markdown",
   "metadata": {},
   "source": [
    "Here's a link to the docs - https://epistasislab.github.io/tpot/."
   ]
  },
  {
   "cell_type": "markdown",
   "metadata": {},
   "source": [
    "## Introduction to TPOT"
   ]
  },
  {
   "cell_type": "markdown",
   "metadata": {},
   "source": [
    "### Default Parameters"
   ]
  },
  {
   "cell_type": "markdown",
   "metadata": {},
   "source": [
    "<code>generations=100, \n",
    "population_size=100, \n",
    "offspring_size=None  # Jeff notes this gets set to population_size\n",
    "mutation_rate=0.9, \n",
    "crossover_rate=0.1, \n",
    "scoring=\"Accuracy\",  # for Classification\n",
    "cv=5, \n",
    "subsample=1.0, \n",
    "n_jobs=1,\n",
    "max_time_mins=None, \n",
    "max_eval_time_mins=5,\n",
    "random_state=None, \n",
    "config_dict=None,\n",
    "warm_start=False, \n",
    "memory=None,\n",
    "periodic_checkpoint_folder=None, \n",
    "early_stop=None\n",
    "verbosity=0\n",
    "disable_update_check=False\n",
    "</code>"
   ]
  },
  {
   "cell_type": "markdown",
   "metadata": {},
   "source": [
    "### Important Parameters"
   ]
  },
  {
   "cell_type": "markdown",
   "metadata": {},
   "source": [
    "generations: int, optional (default: 100)           \n",
    "Number of iterations to the run pipeline optimization process.            Generally, TPOT will work better when you give it more generations(and therefore time) to optimize the pipeline. \n",
    "TPOT will evaluate POPULATION_SIZE + GENERATIONS x OFFSPRING_SIZE pipelines in total (emphasis mine).\n",
    "population_size: int, optional (default: 100)            \n",
    "Number of individuals to retain in the GP population every generation. \n",
    "Generally, TPOT will work better when you give it more individuals (and therefore time) to optimize the pipeline. \n",
    "offspring_size: int, optional (default: None)\n",
    "Number of offspring to produce in each GP generation.            \n",
    "By default, offspring_size = population_size."
   ]
  },
  {
   "cell_type": "markdown",
   "metadata": {},
   "source": [
    "### Classifiers Used (with Parameters chosen from)"
   ]
  },
  {
   "cell_type": "markdown",
   "metadata": {},
   "source": [
    "‘sklearn.naive_bayes.BernoulliNB’: { ‘alpha’: [1e-3, 1e-2, 1e-1, 1., 10., 100.], ‘fit_prior’: [True, False] }, \n",
    "‘sklearn.naive_bayes.MultinomialNB’: { ‘alpha’: [1e-3, 1e-2, 1e-1, 1., 10., 100.], ‘fit_prior’: [True, False] }, \n",
    "‘sklearn.tree.DecisionTreeClassifier’: { ‘criterion’: [“gini”, “entropy”], ‘max_depth’: range(1, 11), ‘min_samples_split’: range(2, 21), ‘min_samples_leaf’: range(1, 21) }, \n",
    "‘sklearn.ensemble.ExtraTreesClassifier’: { ‘n_estimators’: [100], ‘criterion’: [“gini”, “entropy”], ‘max_features’: np.arange(0.05, 1.01, 0.05), ‘min_samples_split’: range(2, 21), ‘min_samples_leaf’: range(1, 21), ‘bootstrap’: [True, False] },\n",
    "‘sklearn.ensemble.RandomForestClassifier’: { ‘n_estimators’: [100], ‘criterion’: [“gini”, “entropy”], ‘max_features’: np.arange(0.05, 1.01, 0.05), ‘min_samples_split’: range(2, 21), ‘min_samples_leaf’: range(1, 21), ‘bootstrap’: [True, False] }, \n",
    "‘sklearn.ensemble.GradientBoostingClassifier’: { ‘n_estimators’: [100], ‘learning_rate’: [1e-3, 1e-2, 1e-1, 0.5, 1.], ‘max_depth’: range(1, 11), ‘min_samples_split’: range(2, 21), ‘min_samples_leaf’: range(1, 21), ‘subsample’: np.arange(0.05, 1.01, 0.05), ‘max_features’: np.arange(0.05, 1.01, 0.05) },\n",
    "‘sklearn.neighbors.KNeighborsClassifier’: { ‘n_neighbors’: range(1, 101), ‘weights’: [“uniform”, “distance”], ‘p’: [1, 2] }, \n",
    "‘sklearn.svm.LinearSVC’: { ‘penalty’: [“l1”, “l2”], ‘loss’: [“hinge”, “squared_hinge”], ‘dual’: [True, False], ‘tol’: [1e-5, 1e-4, 1e-3, 1e-2, 1e-1], ‘C’: [1e-4, 1e-3, 1e-2, 1e-1, 0.5, 1., 5., 10., 15., 20., 25.] }, \n",
    "‘sklearn.linear_model.LogisticRegression’: { ‘penalty’: [“l1”, “l2”], ‘C’: [1e-4, 1e-3, 1e-2, 1e-1, 0.5, 1., 5., 10., 15., 20., 25.], ‘dual’: [True, False] }, \n",
    "‘xgboost.XGBClassifier’: { ‘n_estimators’: [100], ‘max_depth’: range(1, 11), ‘learning_rate’: [1e-3, 1e-2, 1e-1, 0.5, 1.], ‘subsample’: np.arange(0.05, 1.01, 0.05), ‘min_child_weight’: range(1, 21), ‘nthread’: [1] }"
   ]
  },
  {
   "cell_type": "markdown",
   "metadata": {},
   "source": [
    "And TPOT can stack classifiers, including the same classifier multiple times. One of the core developers of TPOT explains how it works in this issue:\n",
    "The pipeline ExtraTreesClassifier(ExtraTreesClassifier(input_matrix, True, 'entropy', 0.10000000000000001, 13, 6), True, 'gini', 0.75, 17, 4) does the following:\n",
    "Fit all of the original features using an ExtraTreesClassifier\n",
    "Take the predictions from that ExtraTreesClassifier and create a new feature using those predictions\n",
    "Pass the original features plus the new “predicted feature” to the 2nd ExtraTreesClassifier and use its predictions as the final predictions of the pipeline\n",
    "This process is called stacking classifiers, which is a fairly common tactic in machine learning."
   ]
  },
  {
   "cell_type": "markdown",
   "metadata": {},
   "source": [
    "### Preprocessors Used"
   ]
  },
  {
   "cell_type": "markdown",
   "metadata": {},
   "source": [
    "```‘sklearn.preprocessing.Binarizer’: { ‘threshold’: np.arange(0.0, 1.01, 0.05) }, \n",
    "‘sklearn.decomposition.FastICA’: { ‘tol’: np.arange(0.0, 1.01, 0.05) }, \n",
    "‘sklearn.cluster.FeatureAgglomeration’: { ‘linkage’: [‘ward’, ‘complete’, ‘average’], ‘affinity’: [‘euclidean’, ‘l1’, ‘l2’, ‘manhattan’, ‘cosine’] }, \n",
    "‘sklearn.preprocessing.MaxAbsScaler’: { }, \n",
    "‘sklearn.preprocessing.MinMaxScaler’: { }, \n",
    "‘sklearn.preprocessing.Normalizer’: { ‘norm’: [‘l1’, ‘l2’, ‘max’] }, \n",
    "‘sklearn.kernel_approximation.Nystroem’: { ‘kernel’: [‘rbf’, ‘cosine’, ‘chi2’, ‘laplacian’, ‘polynomial’, ‘poly’, ‘linear’, ‘additive_chi2’, ‘sigmoid’], ‘gamma’: np.arange(0.0, 1.01, 0.05), ‘n_components’: range(1, 11) }, \n",
    "‘sklearn.decomposition.PCA’: { ‘svd_solver’: [‘randomized’], ‘iterated_power’: range(1, 11) }, ‘sklearn.preprocessing.PolynomialFeatures’: { ‘degree’: [2], ‘include_bias’: [False], ‘interaction_only’: [False] }, \n",
    "‘sklearn.kernel_approximation.RBFSampler’: { ‘gamma’: np.arange(0.0, 1.01, 0.05) }, ‘sklearn.preprocessing.RobustScaler’: { }, \n",
    "‘sklearn.preprocessing.StandardScaler’: { }, ‘tpot.builtins.ZeroCount’: { }, \n",
    "‘tpot.builtins.OneHotEncoder’: { ‘minimum_fraction’: [0.05, 0.1, 0.15, 0.2, 0.25], ‘sparse’: [False] } (emphasis mine)```"
   ]
  },
  {
   "cell_type": "markdown",
   "metadata": {},
   "source": [
    "## Imports"
   ]
  },
  {
   "cell_type": "code",
   "execution_count": 43,
   "metadata": {},
   "outputs": [],
   "source": [
    "import numpy as np\n",
    "import pandas as pd\n",
    "from matplotlib import pyplot as plt\n",
    "from tqdm import tqdm_notebook as tqdm\n",
    "from scipy import stats\n",
    "\n",
    "from sklearn.model_selection import train_test_split, RandomizedSearchCV, GridSearchCV\n",
    "from sklearn.metrics import precision_score, recall_score, accuracy_score, confusion_matrix, average_precision_score, balanced_accuracy_score\n",
    "\n",
    "import warnings\n",
    "warnings.filterwarnings('ignore')\n",
    "\n",
    "import seaborn as sns\n",
    "from catboost import CatBoostClassifier, Pool, cv"
   ]
  },
  {
   "cell_type": "markdown",
   "metadata": {},
   "source": [
    "Set plot parameters"
   ]
  },
  {
   "cell_type": "code",
   "execution_count": 44,
   "metadata": {},
   "outputs": [],
   "source": [
    "SMALL_SIZE = 14\n",
    "MEDIUM_SIZE = 18\n",
    "BIGGER_SIZE = 22\n",
    "\n",
    "plt.rc('font', size=SMALL_SIZE)          # controls default text sizes\n",
    "plt.rc('axes', titlesize=SMALL_SIZE)     # fontsize of the axes title\n",
    "plt.rc('axes', labelsize=MEDIUM_SIZE)    # fontsize of the x and y labels\n",
    "plt.rc('xtick', labelsize=SMALL_SIZE)    # fontsize of the tick labels\n",
    "plt.rc('ytick', labelsize=SMALL_SIZE)    # fontsize of the tick labels\n",
    "plt.rc('legend', fontsize=SMALL_SIZE)    # legend fontsize\n",
    "plt.rc('figure', titlesize=BIGGER_SIZE)  # fontsize of the figure title"
   ]
  },
  {
   "cell_type": "markdown",
   "metadata": {},
   "source": [
    "## Custom Functions"
   ]
  },
  {
   "cell_type": "code",
   "execution_count": 45,
   "metadata": {},
   "outputs": [],
   "source": [
    "def my_errors(model, X_test, y_test, skl_api = False):\n",
    "    if skl_api:\n",
    "        probs = model.predict_proba(X_test)\n",
    "    else:\n",
    "        probs = model.predict(X_test)\n",
    "    preds = np.asarray([np.argmax(line) for line in probs])\n",
    "    print(\"Average Precision Score: {}\".format(average_precision_score(y_test, preds)))\n",
    "    print(\"Balanced Accuracy Score: {}\".format(balanced_accuracy_score(y_test, preds)))\n",
    "    return probs, preds"
   ]
  },
  {
   "cell_type": "code",
   "execution_count": 46,
   "metadata": {},
   "outputs": [],
   "source": [
    "def cm_analysis(y_true, y_pred, labels, ymap=None, figsize=(10,10)):\n",
    "    \"\"\"\n",
    "    Generate matrix plot of confusion matrix with pretty annotations.\n",
    "    The plot image is saved to disk.\n",
    "    args: \n",
    "      y_true:    true label of the data, with shape (nsamples,)\n",
    "      y_pred:    prediction of the data, with shape (nsamples,)\n",
    "      labels:    string array, name the order of class labels in the confusion matrix.\n",
    "                 use `clf.classes_` if using scikit-learn models.\n",
    "                 with shape (nclass,).\n",
    "      ymap:      dict: any -> string, length == nclass.\n",
    "                 if not None, map the labels & ys to more understandable strings.\n",
    "                 Caution: original y_true, y_pred and labels must align.\n",
    "      figsize:   the size of the figure plotted.\n",
    "    \"\"\"\n",
    "    if ymap is not None:\n",
    "        y_pred = [ymap[yi] for yi in y_pred]\n",
    "        y_true = [ymap[yi] for yi in y_true]\n",
    "        labels = [ymap[yi] for yi in labels]\n",
    "    cm = confusion_matrix(y_true, y_pred, labels=labels)\n",
    "    cm_sum = np.sum(cm, axis=1, keepdims=True)\n",
    "    cm_perc = cm / cm_sum.astype(float) * 100\n",
    "    annot = np.empty_like(cm).astype(str)\n",
    "    nrows, ncols = cm.shape\n",
    "    for i in range(nrows):\n",
    "        for j in range(ncols):\n",
    "            c = cm[i, j]\n",
    "            p = cm_perc[i, j]\n",
    "            if i == j:\n",
    "                s = cm_sum[i]\n",
    "                annot[i, j] = '%.2f%%\\n%d/%d' % (p, c, s)\n",
    "            elif c == 0:\n",
    "                annot[i, j] = ''\n",
    "            else:\n",
    "                annot[i, j] = '%.2f%%\\n%d' % (p, c)\n",
    "    cm_perc = pd.DataFrame(cm_perc, index=labels, columns=labels)\n",
    "    cm_perc.index.name = 'Actual'\n",
    "    cm_perc.columns.name = 'Predicted'\n",
    "    fig, ax = plt.subplots(figsize=figsize)\n",
    "    sns.heatmap(cm_perc, annot=annot, fmt='', ax=ax, square = True, cmap = 'PuBu', cbar_kws = {'label':'Percentage'}, vmin = 0, vmax = 100) # Change cm_perc to cm if coloring is by %\n",
    "    \n",
    "    #!!UNCOMMENT if your mpl is not updated (if cm_analysis output is not square)\n",
    "#     # fix for mpl bug that cuts off top/bottom of seaborn viz\n",
    "#     b, t = plt.ylim() # discover the values for bottom and top\n",
    "#     b += 0.5 # Add 0.5 to the bottom\n",
    "#     t -= 0.5 # Subtract 0.5 from the top\n",
    "#     plt.ylim(b, t) # update the ylim(bottom, top) values\n",
    "    \n",
    "    plt.show()"
   ]
  },
  {
   "cell_type": "markdown",
   "metadata": {},
   "source": [
    "## Heart Disease Data"
   ]
  },
  {
   "cell_type": "markdown",
   "metadata": {},
   "source": [
    "We'll be using the Heart Disease Data Set from the UCI Machine Learning Repository, accessed through Kaggle (https://www.kaggle.com/ronitf/heart-disease-uci). It has a lot of categorical features, so we'll be able to make good use of CatBoost. The downside is there are only 303 samples."
   ]
  },
  {
   "cell_type": "markdown",
   "metadata": {},
   "source": [
    "Let's load the data and look at the columns and the head"
   ]
  },
  {
   "cell_type": "code",
   "execution_count": 47,
   "metadata": {},
   "outputs": [
    {
     "data": {
      "text/plain": [
       "Index(['age', 'sex', 'cp', 'trestbps', 'chol', 'fbs', 'restecg', 'thalach',\n",
       "       'exang', 'oldpeak', 'slope', 'ca', 'thal', 'target'],\n",
       "      dtype='object')"
      ]
     },
     "execution_count": 47,
     "metadata": {},
     "output_type": "execute_result"
    }
   ],
   "source": [
    "folder = r\"C:\\Users\\ponglao\\OneDrive - savvysherpa.com\\Dev Group\\heartdisease\"\n",
    "data = pd.read_csv(folder + '\\\\heart.csv')\n",
    "data.columns"
   ]
  },
  {
   "cell_type": "code",
   "execution_count": 48,
   "metadata": {},
   "outputs": [
    {
     "data": {
      "text/html": [
       "<div>\n",
       "<style scoped>\n",
       "    .dataframe tbody tr th:only-of-type {\n",
       "        vertical-align: middle;\n",
       "    }\n",
       "\n",
       "    .dataframe tbody tr th {\n",
       "        vertical-align: top;\n",
       "    }\n",
       "\n",
       "    .dataframe thead th {\n",
       "        text-align: right;\n",
       "    }\n",
       "</style>\n",
       "<table border=\"1\" class=\"dataframe\">\n",
       "  <thead>\n",
       "    <tr style=\"text-align: right;\">\n",
       "      <th></th>\n",
       "      <th>age</th>\n",
       "      <th>sex</th>\n",
       "      <th>cp</th>\n",
       "      <th>trestbps</th>\n",
       "      <th>chol</th>\n",
       "      <th>fbs</th>\n",
       "      <th>restecg</th>\n",
       "      <th>thalach</th>\n",
       "      <th>exang</th>\n",
       "      <th>oldpeak</th>\n",
       "      <th>slope</th>\n",
       "      <th>ca</th>\n",
       "      <th>thal</th>\n",
       "      <th>target</th>\n",
       "    </tr>\n",
       "  </thead>\n",
       "  <tbody>\n",
       "    <tr>\n",
       "      <td>0</td>\n",
       "      <td>63</td>\n",
       "      <td>1</td>\n",
       "      <td>3</td>\n",
       "      <td>145</td>\n",
       "      <td>233</td>\n",
       "      <td>1</td>\n",
       "      <td>0</td>\n",
       "      <td>150</td>\n",
       "      <td>0</td>\n",
       "      <td>2.3</td>\n",
       "      <td>0</td>\n",
       "      <td>0</td>\n",
       "      <td>1</td>\n",
       "      <td>1</td>\n",
       "    </tr>\n",
       "    <tr>\n",
       "      <td>1</td>\n",
       "      <td>37</td>\n",
       "      <td>1</td>\n",
       "      <td>2</td>\n",
       "      <td>130</td>\n",
       "      <td>250</td>\n",
       "      <td>0</td>\n",
       "      <td>1</td>\n",
       "      <td>187</td>\n",
       "      <td>0</td>\n",
       "      <td>3.5</td>\n",
       "      <td>0</td>\n",
       "      <td>0</td>\n",
       "      <td>2</td>\n",
       "      <td>1</td>\n",
       "    </tr>\n",
       "    <tr>\n",
       "      <td>2</td>\n",
       "      <td>41</td>\n",
       "      <td>0</td>\n",
       "      <td>1</td>\n",
       "      <td>130</td>\n",
       "      <td>204</td>\n",
       "      <td>0</td>\n",
       "      <td>0</td>\n",
       "      <td>172</td>\n",
       "      <td>0</td>\n",
       "      <td>1.4</td>\n",
       "      <td>2</td>\n",
       "      <td>0</td>\n",
       "      <td>2</td>\n",
       "      <td>1</td>\n",
       "    </tr>\n",
       "    <tr>\n",
       "      <td>3</td>\n",
       "      <td>56</td>\n",
       "      <td>1</td>\n",
       "      <td>1</td>\n",
       "      <td>120</td>\n",
       "      <td>236</td>\n",
       "      <td>0</td>\n",
       "      <td>1</td>\n",
       "      <td>178</td>\n",
       "      <td>0</td>\n",
       "      <td>0.8</td>\n",
       "      <td>2</td>\n",
       "      <td>0</td>\n",
       "      <td>2</td>\n",
       "      <td>1</td>\n",
       "    </tr>\n",
       "    <tr>\n",
       "      <td>4</td>\n",
       "      <td>57</td>\n",
       "      <td>0</td>\n",
       "      <td>0</td>\n",
       "      <td>120</td>\n",
       "      <td>354</td>\n",
       "      <td>0</td>\n",
       "      <td>1</td>\n",
       "      <td>163</td>\n",
       "      <td>1</td>\n",
       "      <td>0.6</td>\n",
       "      <td>2</td>\n",
       "      <td>0</td>\n",
       "      <td>2</td>\n",
       "      <td>1</td>\n",
       "    </tr>\n",
       "  </tbody>\n",
       "</table>\n",
       "</div>"
      ],
      "text/plain": [
       "   age  sex  cp  trestbps  chol  fbs  restecg  thalach  exang  oldpeak  slope  \\\n",
       "0   63    1   3       145   233    1        0      150      0      2.3      0   \n",
       "1   37    1   2       130   250    0        1      187      0      3.5      0   \n",
       "2   41    0   1       130   204    0        0      172      0      1.4      2   \n",
       "3   56    1   1       120   236    0        1      178      0      0.8      2   \n",
       "4   57    0   0       120   354    0        1      163      1      0.6      2   \n",
       "\n",
       "   ca  thal  target  \n",
       "0   0     1       1  \n",
       "1   0     2       1  \n",
       "2   0     2       1  \n",
       "3   0     2       1  \n",
       "4   0     2       1  "
      ]
     },
     "execution_count": 48,
     "metadata": {},
     "output_type": "execute_result"
    }
   ],
   "source": [
    "data.head()"
   ]
  },
  {
   "cell_type": "markdown",
   "metadata": {},
   "source": [
    "Here's a description of the columns:\n",
    "1. `age` (int)\n",
    "1. `sex` (cat)<br>\n",
    "0 = femaile, 1 = male\n",
    "1. `cp` (cat) - chest pain type<br>\n",
    "0 = asymptomatic, 1 = atypical angina, 2 = non-anginal pain, 3 = typical angina\n",
    "1. `trestbps` (int) - resting blood pressure\n",
    "1. `chol` (int) - blood serum cholesterol\n",
    "1. `fbs` (cat) - if fasting blood sugar is > 120 mg/dl<br>\n",
    "0 = False, 1 = True\n",
    "1. `restecg` (cat) - resting electrocardiographic results<br>\n",
    "0 = probable/definite left ventricular hypertrophy, 1 = normal, 2 = having ST-T wave abnormality\n",
    "1. `thalach` (int) - maximum heart rate achieved\n",
    "1. `exang` (cat) - exercise induced angina<br>\n",
    "0 = no, 1 = yes\n",
    "1. `oldpeak` (float) - ST depression (a finding on an electrocardiogram) induced by exercise relative to rest\n",
    "1. `slope`(cat) - slope of the peak exercise ST segment<br>\n",
    "0 = downsloping, 1 = flat, 2 = upsloping\n",
    "1. `ca` (int) - number of major vessels colored by fluoroscopy\n",
    "1. `thal` (cat) - blood flow measurement using thallium<br>\n",
    "0 = null, 1 = fixed defect, 2 = normal, 3 = reversible defect\n",
    "1. `target` (cat) - **indicator of NO heart disease**<br>\n",
    "0 = disease, 1 = no disease\n",
    "\n",
    "The following links helped me understand the columns better:\n",
    "- https://www.kaggle.com/ronitf/heart-disease-uci/discussion/105877\n",
    "- https://www.kaggle.com/ronitf/heart-disease-uci/discussion/92838"
   ]
  },
  {
   "cell_type": "markdown",
   "metadata": {},
   "source": [
    "Let's check the distribution of `target`"
   ]
  },
  {
   "cell_type": "code",
   "execution_count": 49,
   "metadata": {},
   "outputs": [
    {
     "data": {
      "text/html": [
       "<style  type=\"text/css\" >\n",
       "</style><table id=\"T_0f45eef4_b187_11ea_bf39_0c5415741296\" ><thead>    <tr>        <th class=\"blank level0\" ></th>        <th class=\"col_heading level0 col0\" >Count</th>        <th class=\"col_heading level0 col1\" >Percent</th>    </tr></thead><tbody>\n",
       "                <tr>\n",
       "                        <th id=\"T_0f45eef4_b187_11ea_bf39_0c5415741296level0_row0\" class=\"row_heading level0 row0\" >1</th>\n",
       "                        <td id=\"T_0f45eef4_b187_11ea_bf39_0c5415741296row0_col0\" class=\"data row0 col0\" >165</td>\n",
       "                        <td id=\"T_0f45eef4_b187_11ea_bf39_0c5415741296row0_col1\" class=\"data row0 col1\" >54.46%</td>\n",
       "            </tr>\n",
       "            <tr>\n",
       "                        <th id=\"T_0f45eef4_b187_11ea_bf39_0c5415741296level0_row1\" class=\"row_heading level0 row1\" >0</th>\n",
       "                        <td id=\"T_0f45eef4_b187_11ea_bf39_0c5415741296row1_col0\" class=\"data row1 col0\" >138</td>\n",
       "                        <td id=\"T_0f45eef4_b187_11ea_bf39_0c5415741296row1_col1\" class=\"data row1 col1\" >45.54%</td>\n",
       "            </tr>\n",
       "    </tbody></table>"
      ],
      "text/plain": [
       "<pandas.io.formats.style.Styler at 0x21d09826bc8>"
      ]
     },
     "execution_count": 49,
     "metadata": {},
     "output_type": "execute_result"
    }
   ],
   "source": [
    "df1 = data.target.value_counts().rename('Count')\n",
    "df2 = (data.target.value_counts(normalize = True)*100).rename('Percent')\n",
    "pd.concat([df1,df2], axis = 1).style.format({'Percent':'{:.2f}%'})"
   ]
  },
  {
   "cell_type": "markdown",
   "metadata": {},
   "source": [
    "Specify the categorical columns and perform one-hot encoding"
   ]
  },
  {
   "cell_type": "code",
   "execution_count": 50,
   "metadata": {},
   "outputs": [
    {
     "data": {
      "text/html": [
       "<div>\n",
       "<style scoped>\n",
       "    .dataframe tbody tr th:only-of-type {\n",
       "        vertical-align: middle;\n",
       "    }\n",
       "\n",
       "    .dataframe tbody tr th {\n",
       "        vertical-align: top;\n",
       "    }\n",
       "\n",
       "    .dataframe thead th {\n",
       "        text-align: right;\n",
       "    }\n",
       "</style>\n",
       "<table border=\"1\" class=\"dataframe\">\n",
       "  <thead>\n",
       "    <tr style=\"text-align: right;\">\n",
       "      <th></th>\n",
       "      <th>age</th>\n",
       "      <th>trestbps</th>\n",
       "      <th>chol</th>\n",
       "      <th>thalach</th>\n",
       "      <th>oldpeak</th>\n",
       "      <th>ca</th>\n",
       "      <th>sex_0</th>\n",
       "      <th>sex_1</th>\n",
       "      <th>cp_0</th>\n",
       "      <th>cp_1</th>\n",
       "      <th>...</th>\n",
       "      <th>exang_0</th>\n",
       "      <th>exang_1</th>\n",
       "      <th>slope_0</th>\n",
       "      <th>slope_1</th>\n",
       "      <th>slope_2</th>\n",
       "      <th>thal_0</th>\n",
       "      <th>thal_1</th>\n",
       "      <th>thal_2</th>\n",
       "      <th>thal_3</th>\n",
       "      <th>target</th>\n",
       "    </tr>\n",
       "  </thead>\n",
       "  <tbody>\n",
       "    <tr>\n",
       "      <td>0</td>\n",
       "      <td>63</td>\n",
       "      <td>145</td>\n",
       "      <td>233</td>\n",
       "      <td>150</td>\n",
       "      <td>2.3</td>\n",
       "      <td>0</td>\n",
       "      <td>0</td>\n",
       "      <td>1</td>\n",
       "      <td>0</td>\n",
       "      <td>0</td>\n",
       "      <td>...</td>\n",
       "      <td>1</td>\n",
       "      <td>0</td>\n",
       "      <td>1</td>\n",
       "      <td>0</td>\n",
       "      <td>0</td>\n",
       "      <td>0</td>\n",
       "      <td>1</td>\n",
       "      <td>0</td>\n",
       "      <td>0</td>\n",
       "      <td>1</td>\n",
       "    </tr>\n",
       "    <tr>\n",
       "      <td>1</td>\n",
       "      <td>37</td>\n",
       "      <td>130</td>\n",
       "      <td>250</td>\n",
       "      <td>187</td>\n",
       "      <td>3.5</td>\n",
       "      <td>0</td>\n",
       "      <td>0</td>\n",
       "      <td>1</td>\n",
       "      <td>0</td>\n",
       "      <td>0</td>\n",
       "      <td>...</td>\n",
       "      <td>1</td>\n",
       "      <td>0</td>\n",
       "      <td>1</td>\n",
       "      <td>0</td>\n",
       "      <td>0</td>\n",
       "      <td>0</td>\n",
       "      <td>0</td>\n",
       "      <td>1</td>\n",
       "      <td>0</td>\n",
       "      <td>1</td>\n",
       "    </tr>\n",
       "    <tr>\n",
       "      <td>2</td>\n",
       "      <td>41</td>\n",
       "      <td>130</td>\n",
       "      <td>204</td>\n",
       "      <td>172</td>\n",
       "      <td>1.4</td>\n",
       "      <td>0</td>\n",
       "      <td>1</td>\n",
       "      <td>0</td>\n",
       "      <td>0</td>\n",
       "      <td>1</td>\n",
       "      <td>...</td>\n",
       "      <td>1</td>\n",
       "      <td>0</td>\n",
       "      <td>0</td>\n",
       "      <td>0</td>\n",
       "      <td>1</td>\n",
       "      <td>0</td>\n",
       "      <td>0</td>\n",
       "      <td>1</td>\n",
       "      <td>0</td>\n",
       "      <td>1</td>\n",
       "    </tr>\n",
       "    <tr>\n",
       "      <td>3</td>\n",
       "      <td>56</td>\n",
       "      <td>120</td>\n",
       "      <td>236</td>\n",
       "      <td>178</td>\n",
       "      <td>0.8</td>\n",
       "      <td>0</td>\n",
       "      <td>0</td>\n",
       "      <td>1</td>\n",
       "      <td>0</td>\n",
       "      <td>1</td>\n",
       "      <td>...</td>\n",
       "      <td>1</td>\n",
       "      <td>0</td>\n",
       "      <td>0</td>\n",
       "      <td>0</td>\n",
       "      <td>1</td>\n",
       "      <td>0</td>\n",
       "      <td>0</td>\n",
       "      <td>1</td>\n",
       "      <td>0</td>\n",
       "      <td>1</td>\n",
       "    </tr>\n",
       "    <tr>\n",
       "      <td>4</td>\n",
       "      <td>57</td>\n",
       "      <td>120</td>\n",
       "      <td>354</td>\n",
       "      <td>163</td>\n",
       "      <td>0.6</td>\n",
       "      <td>0</td>\n",
       "      <td>1</td>\n",
       "      <td>0</td>\n",
       "      <td>1</td>\n",
       "      <td>0</td>\n",
       "      <td>...</td>\n",
       "      <td>0</td>\n",
       "      <td>1</td>\n",
       "      <td>0</td>\n",
       "      <td>0</td>\n",
       "      <td>1</td>\n",
       "      <td>0</td>\n",
       "      <td>0</td>\n",
       "      <td>1</td>\n",
       "      <td>0</td>\n",
       "      <td>1</td>\n",
       "    </tr>\n",
       "  </tbody>\n",
       "</table>\n",
       "<p>5 rows × 27 columns</p>\n",
       "</div>"
      ],
      "text/plain": [
       "   age  trestbps  chol  thalach  oldpeak  ca  sex_0  sex_1  cp_0  cp_1  ...  \\\n",
       "0   63       145   233      150      2.3   0      0      1     0     0  ...   \n",
       "1   37       130   250      187      3.5   0      0      1     0     0  ...   \n",
       "2   41       130   204      172      1.4   0      1      0     0     1  ...   \n",
       "3   56       120   236      178      0.8   0      0      1     0     1  ...   \n",
       "4   57       120   354      163      0.6   0      1      0     1     0  ...   \n",
       "\n",
       "   exang_0  exang_1  slope_0  slope_1  slope_2  thal_0  thal_1  thal_2  \\\n",
       "0        1        0        1        0        0       0       1       0   \n",
       "1        1        0        1        0        0       0       0       1   \n",
       "2        1        0        0        0        1       0       0       1   \n",
       "3        1        0        0        0        1       0       0       1   \n",
       "4        0        1        0        0        1       0       0       1   \n",
       "\n",
       "   thal_3  target  \n",
       "0       0       1  \n",
       "1       0       1  \n",
       "2       0       1  \n",
       "3       0       1  \n",
       "4       0       1  \n",
       "\n",
       "[5 rows x 27 columns]"
      ]
     },
     "execution_count": 50,
     "metadata": {},
     "output_type": "execute_result"
    }
   ],
   "source": [
    "cat_features = ['sex','cp','fbs','restecg','exang','slope', 'thal'] #list down the cat column names\n",
    "data = pd.get_dummies(data, columns=cat_features)\n",
    "data = data.loc[:,[col for col in data.columns if col != 'target']+['target']]\n",
    "data.head()"
   ]
  },
  {
   "cell_type": "markdown",
   "metadata": {},
   "source": [
    "Separate the data into X (features) and y (class/target)"
   ]
  },
  {
   "cell_type": "code",
   "execution_count": 51,
   "metadata": {},
   "outputs": [],
   "source": [
    "X = data.iloc[:,:-1]\n",
    "y = data.iloc[:,-1]"
   ]
  },
  {
   "cell_type": "markdown",
   "metadata": {},
   "source": [
    "Split the data into train and test sets"
   ]
  },
  {
   "cell_type": "code",
   "execution_count": 53,
   "metadata": {},
   "outputs": [],
   "source": [
    "X_train, X_test, y_train, y_test = train_test_split(X, y, test_size = 0.2, random_state = 1010, stratify = y)"
   ]
  },
  {
   "cell_type": "markdown",
   "metadata": {},
   "source": [
    "## TPOT Modeling"
   ]
  },
  {
   "cell_type": "markdown",
   "metadata": {},
   "source": [
    "### Basics"
   ]
  },
  {
   "cell_type": "markdown",
   "metadata": {},
   "source": [
    "The model object is `TPOTClassifier` <br>"
   ]
  },
  {
   "cell_type": "code",
   "execution_count": 54,
   "metadata": {},
   "outputs": [],
   "source": [
    "from tpot import TPOTClassifier"
   ]
  },
  {
   "cell_type": "markdown",
   "metadata": {},
   "source": [
    "Below, we create a TPOTClassifier object. Note that the default `generations` and `population_size` are both 100. We set `generations = 20` so that the model fits quickly, and `verbosity = 2` to see CV scores at every generation. We also set `config_dict = 'TPOT light'` for it to run fast."
   ]
  },
  {
   "cell_type": "markdown",
   "metadata": {},
   "source": [
    "#### TPOT Light"
   ]
  },
  {
   "cell_type": "code",
   "execution_count": 86,
   "metadata": {
    "scrolled": false
   },
   "outputs": [
    {
     "name": "stdout",
     "output_type": "stream",
     "text": [
      "Best pipeline: LogisticRegression(MultinomialNB(CombineDFs(MinMaxScaler(input_matrix), Binarizer(GaussianNB(SelectPercentile(input_matrix, percentile=61)), threshold=0.5)), alpha=0.001, fit_prior=False), C=5.0, dual=False, penalty=l2)\n"
     ]
    },
    {
     "data": {
      "text/plain": [
       "TPOTClassifier(config_dict='TPOT light', crossover_rate=0.1, cv=5,\n",
       "               disable_update_check=False, early_stop=None, generations=100,\n",
       "               log_file=<ipykernel.iostream.OutStream object at 0x0000021D5F3FCEC8>,\n",
       "               max_eval_time_mins=5, max_time_mins=None, memory=None,\n",
       "               mutation_rate=0.9, n_jobs=-1, offspring_size=None,\n",
       "               periodic_checkpoint_folder=None, population_size=100,\n",
       "               random_state=2020, scoring=None, subsample=1.0, template=None,\n",
       "               use_dask=False, verbosity=1, warm_start=False)"
      ]
     },
     "execution_count": 86,
     "metadata": {},
     "output_type": "execute_result"
    }
   ],
   "source": [
    "model = TPOTClassifier(generations = 100, \n",
    "                       population_size = 100, \n",
    "                       config_dict = 'TPOT light',\n",
    "                       verbosity = 1, \n",
    "                       random_state = 2020, \n",
    "                       n_jobs = -1)\n",
    "model.fit(X_train, y_train)"
   ]
  },
  {
   "cell_type": "markdown",
   "metadata": {},
   "source": [
    "Below, I run some metrics/plots to check model performance. <br>\n",
    "The model performs pretty well, but maybe we can make it better."
   ]
  },
  {
   "cell_type": "code",
   "execution_count": 87,
   "metadata": {},
   "outputs": [
    {
     "name": "stdout",
     "output_type": "stream",
     "text": [
      "Pipeline(memory=None,\n",
      "         steps=[('featureunion',\n",
      "                 FeatureUnion(n_jobs=None,\n",
      "                              transformer_list=[('minmaxscaler',\n",
      "                                                 MinMaxScaler(copy=True,\n",
      "                                                              feature_range=(0,\n",
      "                                                                             1))),\n",
      "                                                ('pipeline',\n",
      "                                                 Pipeline(memory=None,\n",
      "                                                          steps=[('selectpercentile',\n",
      "                                                                  SelectPercentile(percentile=61,\n",
      "                                                                                   score_func=<function f_classif at 0x0000021D7B6DE5E8>)),\n",
      "                                                                 ('stackingestimator',\n",
      "                                                                  StackingEstimator(estimator=GaussianN...\n",
      "                 StackingEstimator(estimator=MultinomialNB(alpha=0.001,\n",
      "                                                           class_prior=None,\n",
      "                                                           fit_prior=False))),\n",
      "                ('logisticregression',\n",
      "                 LogisticRegression(C=5.0, class_weight=None, dual=False,\n",
      "                                    fit_intercept=True, intercept_scaling=1,\n",
      "                                    l1_ratio=None, max_iter=100,\n",
      "                                    multi_class='auto', n_jobs=None,\n",
      "                                    penalty='l2', random_state=2020,\n",
      "                                    solver='lbfgs', tol=0.0001, verbose=0,\n",
      "                                    warm_start=False))],\n",
      "         verbose=False)\n",
      "Model score on training data: 0.7868852459016393\n",
      "Average Precision Score: 0.762460672296738\n",
      "Balanced Accuracy Score: 0.7895021645021645\n"
     ]
    },
    {
     "data": {
      "image/png": "[encoded data removed]",
      "text/plain": [
       "<Figure size 432x360 with 2 Axes>"
      ]
     },
     "metadata": {
      "needs_background": "light"
     },
     "output_type": "display_data"
    }
   ],
   "source": [
    "preds_class = model.predict(X_test)\n",
    "preds_proba = model.predict_proba(X_test)\n",
    "\n",
    "print(model.fitted_pipeline_)\n",
    "print('Model score on training data: {}'.format(model.score(X_test, y_test)))\n",
    "\n",
    "my_errors(model, X_test, y_test, skl_api = True)\n",
    "cm_analysis(y_test, preds_class, labels = [0,1], ymap=None, figsize=(6,5))"
   ]
  },
  {
   "cell_type": "markdown",
   "metadata": {},
   "source": [
    "#### TPOT (Regular)"
   ]
  },
  {
   "cell_type": "code",
   "execution_count": 88,
   "metadata": {
    "scrolled": false
   },
   "outputs": [
    {
     "data": {
      "application/vnd.jupyter.widget-view+json": {
       "model_id": "",
       "version_major": 2,
       "version_minor": 0
      },
      "text/plain": [
       "HBox(children=(FloatProgress(value=0.0, description='Optimization Progress', max=2100.0, style=ProgressStyle(d…"
      ]
     },
     "metadata": {},
     "output_type": "display_data"
    },
    {
     "name": "stdout",
     "output_type": "stream",
     "text": [
      "Generation 1 - Current best internal CV score: 0.8428571428571429\n",
      "Generation 2 - Current best internal CV score: 0.843027210884354\n",
      "Generation 3 - Current best internal CV score: 0.8471088435374149\n",
      "Generation 4 - Current best internal CV score: 0.8471088435374149\n",
      "Generation 5 - Current best internal CV score: 0.8471088435374149\n",
      "Generation 6 - Current best internal CV score: 0.8636054421768706\n",
      "Generation 7 - Current best internal CV score: 0.8636054421768706\n",
      "Generation 8 - Current best internal CV score: 0.8636054421768706\n",
      "Generation 9 - Current best internal CV score: 0.8636054421768706\n",
      "Generation 10 - Current best internal CV score: 0.8636054421768706\n",
      "Generation 11 - Current best internal CV score: 0.8636054421768706\n",
      "Generation 12 - Current best internal CV score: 0.8676020408163264\n",
      "Generation 13 - Current best internal CV score: 0.8676020408163264\n",
      "Generation 14 - Current best internal CV score: 0.8676020408163264\n",
      "Generation 15 - Current best internal CV score: 0.8676020408163264\n",
      "Generation 16 - Current best internal CV score: 0.8676020408163264\n",
      "Generation 17 - Current best internal CV score: 0.8676020408163264\n",
      "Generation 18 - Current best internal CV score: 0.8676020408163264\n",
      "Generation 19 - Current best internal CV score: 0.8676020408163264\n",
      "Generation 20 - Current best internal CV score: 0.8676020408163264\n",
      "\n",
      "Best pipeline: GradientBoostingClassifier(Binarizer(LogisticRegression(input_matrix, C=0.01, dual=False, penalty=l2), threshold=0.9), learning_rate=0.1, max_depth=1, max_features=0.7500000000000001, min_samples_leaf=18, min_samples_split=6, n_estimators=100, subsample=0.45)\n"
     ]
    },
    {
     "data": {
      "text/plain": [
       "TPOTClassifier(config_dict=None, crossover_rate=0.1, cv=5,\n",
       "               disable_update_check=False, early_stop=None, generations=20,\n",
       "               log_file=<ipykernel.iostream.OutStream object at 0x0000021D5F3FCEC8>,\n",
       "               max_eval_time_mins=5, max_time_mins=None, memory=None,\n",
       "               mutation_rate=0.9, n_jobs=-1, offspring_size=None,\n",
       "               periodic_checkpoint_folder=None, population_size=100,\n",
       "               random_state=2020, scoring=None, subsample=1.0, template=None,\n",
       "               use_dask=False, verbosity=2, warm_start=False)"
      ]
     },
     "execution_count": 88,
     "metadata": {},
     "output_type": "execute_result"
    }
   ],
   "source": [
    "model = TPOTClassifier(generations = 20, \n",
    "                       population_size = 100, \n",
    "                       verbosity = 2, \n",
    "                       random_state = 2020, \n",
    "                       n_jobs = -1)\n",
    "model.fit(X_train, y_train)"
   ]
  },
  {
   "cell_type": "markdown",
   "metadata": {},
   "source": [
    "Below, I run some metrics/plots to check model performance. <br>\n",
    "The model performs pretty well, but maybe we can make it better."
   ]
  },
  {
   "cell_type": "code",
   "execution_count": 89,
   "metadata": {},
   "outputs": [
    {
     "name": "stdout",
     "output_type": "stream",
     "text": [
      "Pipeline(memory=None,\n",
      "         steps=[('stackingestimator',\n",
      "                 StackingEstimator(estimator=LogisticRegression(C=0.01,\n",
      "                                                                class_weight=None,\n",
      "                                                                dual=False,\n",
      "                                                                fit_intercept=True,\n",
      "                                                                intercept_scaling=1,\n",
      "                                                                l1_ratio=None,\n",
      "                                                                max_iter=100,\n",
      "                                                                multi_class='auto',\n",
      "                                                                n_jobs=None,\n",
      "                                                                penalty='l2',\n",
      "                                                                random_state=2020,\n",
      "                                                                solver='lbfgs',\n",
      "                                                                tol=0.0001,\n",
      "                                                                verbose=0,\n",
      "                                                                warm_start=False))),\n",
      "                ('binarizer', Binarizer(copy=True, t...\n",
      "                                            max_depth=1,\n",
      "                                            max_features=0.7500000000000001,\n",
      "                                            max_leaf_nodes=None,\n",
      "                                            min_impurity_decrease=0.0,\n",
      "                                            min_impurity_split=None,\n",
      "                                            min_samples_leaf=18,\n",
      "                                            min_samples_split=6,\n",
      "                                            min_weight_fraction_leaf=0.0,\n",
      "                                            n_estimators=100,\n",
      "                                            n_iter_no_change=None,\n",
      "                                            presort='deprecated',\n",
      "                                            random_state=2020, subsample=0.45,\n",
      "                                            tol=0.0001, validation_fraction=0.1,\n",
      "                                            verbose=0, warm_start=False))],\n",
      "         verbose=False)\n",
      "Model score on training data: 0.8688524590163934\n",
      "Average Precision Score: 0.8483406246494559\n",
      "Balanced Accuracy Score: 0.8706709956709957\n"
     ]
    },
    {
     "data": {
      "image/png": "[encoded data removed]",
      "text/plain": [
       "<Figure size 432x360 with 2 Axes>"
      ]
     },
     "metadata": {
      "needs_background": "light"
     },
     "output_type": "display_data"
    }
   ],
   "source": [
    "preds_class = model.predict(X_test)\n",
    "preds_proba = model.predict_proba(X_test)\n",
    "\n",
    "print(model.fitted_pipeline_)\n",
    "print('Model score on training data: {}'.format(model.score(X_test, y_test)))\n",
    "\n",
    "my_errors(model, X_test, y_test, skl_api = True)\n",
    "cm_analysis(y_test, preds_class, labels = [0,1], ymap=None, figsize=(6,5))"
   ]
  },
  {
   "cell_type": "markdown",
   "metadata": {},
   "source": [
    "## Credit Card Fraud Data"
   ]
  },
  {
   "cell_type": "markdown",
   "metadata": {},
   "source": [
    "Load the data and look at classes"
   ]
  },
  {
   "cell_type": "code",
   "execution_count": 16,
   "metadata": {},
   "outputs": [
    {
     "data": {
      "text/plain": [
       "Index(['Time', 'V1', 'V2', 'V3', 'V4', 'V5', 'V6', 'V7', 'V8', 'V9', 'V10',\n",
       "       'V11', 'V12', 'V13', 'V14', 'V15', 'V16', 'V17', 'V18', 'V19', 'V20',\n",
       "       'V21', 'V22', 'V23', 'V24', 'V25', 'V26', 'V27', 'V28', 'Amount',\n",
       "       'Class'],\n",
       "      dtype='object')"
      ]
     },
     "execution_count": 16,
     "metadata": {},
     "output_type": "execute_result"
    }
   ],
   "source": [
    "folder = r\"C:\\Users\\ponglao\\OneDrive - savvysherpa.com\\Dev Group\\creditcard\"\n",
    "data = pd.read_csv(folder + '\\\\creditcard.csv')\n",
    "data.columns"
   ]
  },
  {
   "cell_type": "markdown",
   "metadata": {},
   "source": [
    "We have an imbalanced dataset"
   ]
  },
  {
   "cell_type": "code",
   "execution_count": 17,
   "metadata": {},
   "outputs": [
    {
     "data": {
      "text/html": [
       "<style  type=\"text/css\" >\n",
       "</style><table id=\"T_7994ac8a_9f18_11ea_bfc6_0c5415741296\" ><thead>    <tr>        <th class=\"blank level0\" ></th>        <th class=\"col_heading level0 col0\" >Count</th>        <th class=\"col_heading level0 col1\" >Percent</th>    </tr></thead><tbody>\n",
       "                <tr>\n",
       "                        <th id=\"T_7994ac8a_9f18_11ea_bfc6_0c5415741296level0_row0\" class=\"row_heading level0 row0\" >0</th>\n",
       "                        <td id=\"T_7994ac8a_9f18_11ea_bfc6_0c5415741296row0_col0\" class=\"data row0 col0\" >284315</td>\n",
       "                        <td id=\"T_7994ac8a_9f18_11ea_bfc6_0c5415741296row0_col1\" class=\"data row0 col1\" >99.83%</td>\n",
       "            </tr>\n",
       "            <tr>\n",
       "                        <th id=\"T_7994ac8a_9f18_11ea_bfc6_0c5415741296level0_row1\" class=\"row_heading level0 row1\" >1</th>\n",
       "                        <td id=\"T_7994ac8a_9f18_11ea_bfc6_0c5415741296row1_col0\" class=\"data row1 col0\" >492</td>\n",
       "                        <td id=\"T_7994ac8a_9f18_11ea_bfc6_0c5415741296row1_col1\" class=\"data row1 col1\" >0.17%</td>\n",
       "            </tr>\n",
       "    </tbody></table>"
      ],
      "text/plain": [
       "<pandas.io.formats.style.Styler at 0x1c44337a0c8>"
      ]
     },
     "execution_count": 17,
     "metadata": {},
     "output_type": "execute_result"
    }
   ],
   "source": [
    "df1 = data.Class.value_counts().rename('Count')\n",
    "df2 = (data.Class.value_counts(normalize = True)*100).rename('Percent')\n",
    "pd.concat([df1,df2], axis = 1).style.format({'Percent':'{:.2f}%'})"
   ]
  },
  {
   "cell_type": "markdown",
   "metadata": {},
   "source": [
    "Separate the data into X and y"
   ]
  },
  {
   "cell_type": "code",
   "execution_count": 18,
   "metadata": {},
   "outputs": [],
   "source": [
    "X = data.iloc[:,:-1]\n",
    "y = data.iloc[:,-1]"
   ]
  },
  {
   "cell_type": "markdown",
   "metadata": {},
   "source": [
    "Split the data into train and test sets"
   ]
  },
  {
   "cell_type": "code",
   "execution_count": 19,
   "metadata": {},
   "outputs": [],
   "source": [
    "X_train, X_test, y_train, y_test = train_test_split(X, y, test_size = 0.2, random_state = 2020, stratify = y)"
   ]
  },
  {
   "cell_type": "markdown",
   "metadata": {},
   "source": [
    "#### Balanced Accuracy"
   ]
  },
  {
   "cell_type": "code",
   "execution_count": 20,
   "metadata": {},
   "outputs": [
    {
     "data": {
      "application/vnd.jupyter.widget-view+json": {
       "model_id": "",
       "version_major": 2,
       "version_minor": 0
      },
      "text/plain": [
       "HBox(children=(FloatProgress(value=0.0, description='Optimization Progress', max=120.0, style=ProgressStyle(de…"
      ]
     },
     "metadata": {},
     "output_type": "display_data"
    },
    {
     "name": "stdout",
     "output_type": "stream",
     "text": [
      "Generation 1 - Current best internal CV score: 0.9003293042693749\n",
      "Generation 2 - Current best internal CV score: 0.9003293042693749\n",
      "Generation 3 - Current best internal CV score: 0.9003293042693749\n",
      "Generation 4 - Current best internal CV score: 0.9046181395366582\n",
      "Generation 5 - Current best internal CV score: 0.9046181395366582\n",
      "\n",
      "Best pipeline: DecisionTreeClassifier(input_matrix, criterion=entropy, max_depth=3, min_samples_leaf=9, min_samples_split=4)\n"
     ]
    },
    {
     "data": {
      "text/plain": [
       "TPOTClassifier(config_dict=None, crossover_rate=0.1, cv=5,\n",
       "               disable_update_check=False, early_stop=None, generations=5,\n",
       "               log_file=<ipykernel.iostream.OutStream object at 0x000001C427F0DC08>,\n",
       "               max_eval_time_mins=5, max_time_mins=None, memory=None,\n",
       "               mutation_rate=0.9, n_jobs=1, offspring_size=None,\n",
       "               periodic_checkpoint_folder=None, population_size=20,\n",
       "               random_state=2020, scoring='balanced_accuracy', subsample=1.0,\n",
       "               template=None, use_dask=False, verbosity=2, warm_start=False)"
      ]
     },
     "execution_count": 20,
     "metadata": {},
     "output_type": "execute_result"
    }
   ],
   "source": [
    "model = TPOTClassifier(generations = 5, population_size = 20, verbosity = 2, random_state = 2020, scoring = 'balanced_accuracy')\n",
    "model.fit(X_train, y_train)"
   ]
  },
  {
   "cell_type": "code",
   "execution_count": 21,
   "metadata": {},
   "outputs": [
    {
     "data": {
      "text/plain": [
       "0.9335151970185935"
      ]
     },
     "execution_count": 21,
     "metadata": {},
     "output_type": "execute_result"
    }
   ],
   "source": [
    "model.score(X_test, y_test)"
   ]
  },
  {
   "cell_type": "code",
   "execution_count": 22,
   "metadata": {},
   "outputs": [],
   "source": [
    "preds_class = model.predict(X_test)\n",
    "preds_proba = model.predict_proba(X_test)"
   ]
  },
  {
   "cell_type": "code",
   "execution_count": 23,
   "metadata": {},
   "outputs": [
    {
     "data": {
      "text/plain": [
       "Pipeline(memory=None,\n",
       "         steps=[('decisiontreeclassifier',\n",
       "                 DecisionTreeClassifier(ccp_alpha=0.0, class_weight=None,\n",
       "                                        criterion='entropy', max_depth=3,\n",
       "                                        max_features=None, max_leaf_nodes=None,\n",
       "                                        min_impurity_decrease=0.0,\n",
       "                                        min_impurity_split=None,\n",
       "                                        min_samples_leaf=9, min_samples_split=4,\n",
       "                                        min_weight_fraction_leaf=0.0,\n",
       "                                        presort='deprecated', random_state=2020,\n",
       "                                        splitter='best'))],\n",
       "         verbose=False)"
      ]
     },
     "execution_count": 23,
     "metadata": {},
     "output_type": "execute_result"
    }
   ],
   "source": [
    "model.fitted_pipeline_"
   ]
  },
  {
   "cell_type": "markdown",
   "metadata": {},
   "source": [
    "Below, I run some metrics/plots to check model performance. <br>\n",
    "The model performs pretty well, but maybe we can make it better."
   ]
  },
  {
   "cell_type": "code",
   "execution_count": 24,
   "metadata": {},
   "outputs": [
    {
     "name": "stdout",
     "output_type": "stream",
     "text": [
      "Average Precision Score: 0.7159999679150948\n",
      "Balanced Accuracy Score: 0.9335151970185935\n"
     ]
    },
    {
     "data": {
      "image/png": "[encoded data removed]",
      "text/plain": [
       "<Figure size 432x360 with 2 Axes>"
      ]
     },
     "metadata": {
      "needs_background": "light"
     },
     "output_type": "display_data"
    }
   ],
   "source": [
    "my_errors(model, X_test, y_test, skl_api = True)\n",
    "cm_analysis(y_test, preds_class, labels = [0,1], ymap=None, figsize=(6,5))"
   ]
  },
  {
   "cell_type": "markdown",
   "metadata": {},
   "source": [
    "#### Average Precision"
   ]
  },
  {
   "cell_type": "code",
   "execution_count": 25,
   "metadata": {},
   "outputs": [
    {
     "data": {
      "application/vnd.jupyter.widget-view+json": {
       "model_id": "",
       "version_major": 2,
       "version_minor": 0
      },
      "text/plain": [
       "HBox(children=(FloatProgress(value=0.0, description='Optimization Progress', max=120.0, style=ProgressStyle(de…"
      ]
     },
     "metadata": {},
     "output_type": "display_data"
    },
    {
     "name": "stdout",
     "output_type": "stream",
     "text": [
      "Generation 1 - Current best internal CV score: 0.747943806653492\n",
      "Generation 2 - Current best internal CV score: 0.747943806653492\n",
      "Generation 3 - Current best internal CV score: 0.7774239900153754\n",
      "Generation 4 - Current best internal CV score: 0.778912016083946\n",
      "Generation 5 - Current best internal CV score: 0.778912016083946\n",
      "\n",
      "Best pipeline: BernoulliNB(Binarizer(DecisionTreeClassifier(input_matrix, criterion=entropy, max_depth=5, min_samples_leaf=17, min_samples_split=2), threshold=0.9500000000000001), alpha=0.001, fit_prior=False)\n"
     ]
    },
    {
     "data": {
      "text/plain": [
       "TPOTClassifier(config_dict='TPOT light', crossover_rate=0.1, cv=5,\n",
       "               disable_update_check=False, early_stop=None, generations=5,\n",
       "               log_file=<ipykernel.iostream.OutStream object at 0x000001C427F0DC08>,\n",
       "               max_eval_time_mins=5, max_time_mins=None, memory=None,\n",
       "               mutation_rate=0.9, n_jobs=1, offspring_size=None,\n",
       "               periodic_checkpoint_folder=None, population_size=20,\n",
       "               random_state=2020, scoring='average_precision', subsample=1.0,\n",
       "               template=None, use_dask=False, verbosity=2, warm_start=False)"
      ]
     },
     "execution_count": 25,
     "metadata": {},
     "output_type": "execute_result"
    }
   ],
   "source": [
    "model = TPOTClassifier(generations = 5, population_size = 20, verbosity = 2, random_state = 2020, scoring = 'average_precision', config_dict='TPOT light')\n",
    "model.fit(X_train, y_train)"
   ]
  },
  {
   "cell_type": "code",
   "execution_count": 26,
   "metadata": {},
   "outputs": [
    {
     "data": {
      "text/plain": [
       "0.8268220819127601"
      ]
     },
     "execution_count": 26,
     "metadata": {},
     "output_type": "execute_result"
    }
   ],
   "source": [
    "model.score(X_test, y_test)"
   ]
  },
  {
   "cell_type": "code",
   "execution_count": 27,
   "metadata": {},
   "outputs": [],
   "source": [
    "preds_class = model.predict(X_test)\n",
    "preds_proba = model.predict_proba(X_test)"
   ]
  },
  {
   "cell_type": "code",
   "execution_count": 28,
   "metadata": {},
   "outputs": [
    {
     "data": {
      "text/plain": [
       "Pipeline(memory=None,\n",
       "         steps=[('stackingestimator',\n",
       "                 StackingEstimator(estimator=DecisionTreeClassifier(ccp_alpha=0.0,\n",
       "                                                                    class_weight=None,\n",
       "                                                                    criterion='entropy',\n",
       "                                                                    max_depth=5,\n",
       "                                                                    max_features=None,\n",
       "                                                                    max_leaf_nodes=None,\n",
       "                                                                    min_impurity_decrease=0.0,\n",
       "                                                                    min_impurity_split=None,\n",
       "                                                                    min_samples_leaf=17,\n",
       "                                                                    min_samples_split=2,\n",
       "                                                                    min_weight_fraction_leaf=0.0,\n",
       "                                                                    presort='deprecated',\n",
       "                                                                    random_state=2020,\n",
       "                                                                    splitter='best'))),\n",
       "                ('binarizer',\n",
       "                 Binarizer(copy=True, threshold=0.9500000000000001)),\n",
       "                ('bernoullinb',\n",
       "                 BernoulliNB(alpha=0.001, binarize=0.0, class_prior=None,\n",
       "                             fit_prior=False))],\n",
       "         verbose=False)"
      ]
     },
     "execution_count": 28,
     "metadata": {},
     "output_type": "execute_result"
    }
   ],
   "source": [
    "model.fitted_pipeline_"
   ]
  },
  {
   "cell_type": "markdown",
   "metadata": {},
   "source": [
    "Below, I run some metrics/plots to check model performance. <br>\n",
    "The model performs pretty well, but maybe we can make it better."
   ]
  },
  {
   "cell_type": "code",
   "execution_count": 29,
   "metadata": {},
   "outputs": [
    {
     "name": "stdout",
     "output_type": "stream",
     "text": [
      "Average Precision Score: 0.18903099353813888\n",
      "Balanced Accuracy Score: 0.9410462341942967\n"
     ]
    },
    {
     "data": {
      "image/png": "[encoded data removed]",
      "text/plain": [
       "<Figure size 432x360 with 2 Axes>"
      ]
     },
     "metadata": {
      "needs_background": "light"
     },
     "output_type": "display_data"
    }
   ],
   "source": [
    "my_errors(model, X_test, y_test, skl_api = True)\n",
    "cm_analysis(y_test, preds_class, labels = [0,1], ymap=None, figsize=(6,5))"
   ]
  },
  {
   "cell_type": "markdown",
   "metadata": {},
   "source": [
    "##### TPOT regular"
   ]
  },
  {
   "cell_type": "code",
   "execution_count": 30,
   "metadata": {},
   "outputs": [
    {
     "data": {
      "application/vnd.jupyter.widget-view+json": {
       "model_id": "",
       "version_major": 2,
       "version_minor": 0
      },
      "text/plain": [
       "HBox(children=(FloatProgress(value=0.0, description='Optimization Progress', max=120.0, style=ProgressStyle(de…"
      ]
     },
     "metadata": {},
     "output_type": "display_data"
    },
    {
     "name": "stdout",
     "output_type": "stream",
     "text": [
      "Generation 1 - Current best internal CV score: 0.8320930573247601\n",
      "Generation 2 - Current best internal CV score: 0.838138177802826\n",
      "Generation 3 - Current best internal CV score: 0.838138177802826\n",
      "Generation 4 - Current best internal CV score: 0.8459890878701266\n",
      "Generation 5 - Current best internal CV score: 0.8459890878701266\n",
      "\n",
      "Best pipeline: ExtraTreesClassifier(input_matrix, bootstrap=False, criterion=gini, max_features=0.7500000000000001, min_samples_leaf=1, min_samples_split=4, n_estimators=100)\n"
     ]
    },
    {
     "data": {
      "text/plain": [
       "TPOTClassifier(config_dict=None, crossover_rate=0.1, cv=5,\n",
       "               disable_update_check=False, early_stop=None, generations=5,\n",
       "               log_file=<ipykernel.iostream.OutStream object at 0x000001C427F0DC08>,\n",
       "               max_eval_time_mins=5, max_time_mins=None, memory=None,\n",
       "               mutation_rate=0.9, n_jobs=1, offspring_size=None,\n",
       "               periodic_checkpoint_folder=None, population_size=20,\n",
       "               random_state=2020, scoring='average_precision', subsample=1.0,\n",
       "               template=None, use_dask=False, verbosity=2, warm_start=False)"
      ]
     },
     "execution_count": 30,
     "metadata": {},
     "output_type": "execute_result"
    }
   ],
   "source": [
    "model = TPOTClassifier(generations = 5,\n",
    "                       population_size = 20,\n",
    "                       verbosity = 2,\n",
    "                       random_state = 2020,\n",
    "                       scoring = 'average_precision')\n",
    "model.fit(X_train, y_train)"
   ]
  },
  {
   "cell_type": "code",
   "execution_count": 31,
   "metadata": {},
   "outputs": [
    {
     "data": {
      "text/plain": [
       "0.9012200000362519"
      ]
     },
     "execution_count": 31,
     "metadata": {},
     "output_type": "execute_result"
    }
   ],
   "source": [
    "model.score(X_test, y_test)"
   ]
  },
  {
   "cell_type": "code",
   "execution_count": 32,
   "metadata": {},
   "outputs": [],
   "source": [
    "preds_class = model.predict(X_test)\n",
    "preds_proba = model.predict_proba(X_test)"
   ]
  },
  {
   "cell_type": "code",
   "execution_count": 33,
   "metadata": {},
   "outputs": [
    {
     "data": {
      "text/plain": [
       "Pipeline(memory=None,\n",
       "         steps=[('extratreesclassifier',\n",
       "                 ExtraTreesClassifier(bootstrap=False, ccp_alpha=0.0,\n",
       "                                      class_weight=None, criterion='gini',\n",
       "                                      max_depth=None,\n",
       "                                      max_features=0.7500000000000001,\n",
       "                                      max_leaf_nodes=None, max_samples=None,\n",
       "                                      min_impurity_decrease=0.0,\n",
       "                                      min_impurity_split=None,\n",
       "                                      min_samples_leaf=1, min_samples_split=4,\n",
       "                                      min_weight_fraction_leaf=0.0,\n",
       "                                      n_estimators=100, n_jobs=None,\n",
       "                                      oob_score=False, random_state=2020,\n",
       "                                      verbose=0, warm_start=False))],\n",
       "         verbose=False)"
      ]
     },
     "execution_count": 33,
     "metadata": {},
     "output_type": "execute_result"
    }
   ],
   "source": [
    "model.fitted_pipeline_"
   ]
  },
  {
   "cell_type": "markdown",
   "metadata": {},
   "source": [
    "Below, I run some metrics/plots to check model performance. <br>\n",
    "The model performs pretty well, but maybe we can make it better."
   ]
  },
  {
   "cell_type": "code",
   "execution_count": 34,
   "metadata": {},
   "outputs": [
    {
     "name": "stdout",
     "output_type": "stream",
     "text": [
      "Average Precision Score: 0.8272741377720991\n",
      "Balanced Accuracy Score: 0.9234518019363063\n"
     ]
    },
    {
     "data": {
      "image/png": "[encoded data removed]",
      "text/plain": [
       "<Figure size 432x360 with 2 Axes>"
      ]
     },
     "metadata": {
      "needs_background": "light"
     },
     "output_type": "display_data"
    }
   ],
   "source": [
    "my_errors(model, X_test, y_test, skl_api = True)\n",
    "cm_analysis(y_test, preds_class, labels = [0,1], ymap=None, figsize=(6,5))"
   ]
  },
  {
   "cell_type": "markdown",
   "metadata": {},
   "source": [
    "# END"
   ]
  },
  {
   "cell_type": "markdown",
   "metadata": {},
   "source": [
    "That's it for this tutorial! Hope you learned something ☺. Feel free to reach out in case you have any more questions, my email is `ponglao@savvysherpa.com`."
   ]
  }
 ],
 "metadata": {
  "kernelspec": {
   "display_name": "Python 3",
   "language": "python",
   "name": "python3"
  },
  "language_info": {
   "codemirror_mode": {
    "name": "ipython",
    "version": 3
   },
   "file_extension": ".py",
   "mimetype": "text/x-python",
   "name": "python",
   "nbconvert_exporter": "python",
   "pygments_lexer": "ipython3",
   "version": "3.7.4"
  },
  "toc": {
   "base_numbering": 1,
   "nav_menu": {
    "height": "201px",
    "width": "254px"
   },
   "number_sections": true,
   "sideBar": true,
   "skip_h1_title": false,
   "title_cell": "Table of Contents",
   "title_sidebar": "Contents",
   "toc_cell": false,
   "toc_position": {
    "height": "611.111px",
    "left": "778px",
    "top": "109.778px",
    "width": "290.667px"
   },
   "toc_section_display": true,
   "toc_window_display": false
  },
  "varInspector": {
   "cols": {
    "lenName": 16,
    "lenType": 16,
    "lenVar": 40
   },
   "kernels_config": {
    "python": {
     "delete_cmd_postfix": "",
     "delete_cmd_prefix": "del ",
     "library": "var_list.py",
     "varRefreshCmd": "print(var_dic_list())"
    },
    "r": {
     "delete_cmd_postfix": ") ",
     "delete_cmd_prefix": "rm(",
     "library": "var_list.r",
     "varRefreshCmd": "cat(var_dic_list()) "
    }
   },
   "types_to_exclude": [
    "module",
    "function",
    "builtin_function_or_method",
    "instance",
    "_Feature"
   ],
   "window_display": false
  }
 },
 "nbformat": 4,
 "nbformat_minor": 2
}
